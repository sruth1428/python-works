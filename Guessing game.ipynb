{
 "cells": [
  {
   "cell_type": "markdown",
   "metadata": {},
   "source": [
    "# GUESS THE WORD\n"
   ]
  },
  {
   "cell_type": "code",
   "execution_count": 1,
   "metadata": {
    "ExecuteTime": {
     "end_time": "2021-05-10T06:25:21.945255Z",
     "start_time": "2021-05-10T06:24:35.472365Z"
    }
   },
   "outputs": [
    {
     "name": "stdout",
     "output_type": "stream",
     "text": [
      "enter your name: sruthy\n",
      "Hello sruthy\n",
      "welcome to guessing game...\n",
      "\n",
      "\t\t\tINSTRUCTIONS\n",
      "\n",
      "\n",
      "\t*Guess the correct word using given clues \n",
      "\t*You have only three chances\n",
      "\n",
      "\n",
      "CLUES:\n",
      "-->I am a six letter word\n",
      "-->I am a non living thing\n",
      "-->I am a vegetable\n",
      "\n",
      "\n",
      "enter the guess: carrot\n",
      "enter the guess: ginger\n",
      "enter the guess: potato\n",
      "\n",
      "\t\t\tCongratulations sruthy!!\n",
      "\n",
      "\t\t\t\t \t**You Win**\n",
      "\n"
     ]
    }
   ],
   "source": [
    "name=input(\"enter your name: \")\n",
    "print(\"Hello \"+name + \"\\nwelcome to guessing game...\\n\\n\\t\\t\\tINSTRUCTIONS\\n\\n\")\n",
    "print(\"\\t*Guess the correct word using given clues \\n\\t*You have only three chances\\n\\n\")\n",
    "word=\"potato\"\n",
    "guess=\"\"\n",
    "guess_count=0\n",
    "guess_limit=3\n",
    "out_of_guesses= False\n",
    "print(\"CLUES:\")\n",
    "print(\"-->I am a six letter word\")\n",
    "print(\"-->I am a non living thing\")\n",
    "print(\"-->I am a vegetable\\n\\n\")\n",
    "\n",
    "\n",
    "while guess != word and not(out_of_guesses):\n",
    "    if guess_count < guess_limit:\n",
    "        guess=input(\"enter the guess: \")\n",
    "        guess_count +=1\n",
    "      \n",
    "    else: \n",
    "        out_of_guesses= True\n",
    "if out_of_guesses:\n",
    "    print(\"\\n out of chances! \\n \\tcorrect word is: \",word)\n",
    "else:\n",
    "    print(\"\\n\\t\\t\\tCongratulations \" +name+\"!!\\n\\n\\t\\t\\t\\t \\t**You Win**\\n\")"
   ]
  },
  {
   "cell_type": "code",
   "execution_count": null,
   "metadata": {},
   "outputs": [],
   "source": []
  }
 ],
 "metadata": {
  "kernelspec": {
   "display_name": "Python 3",
   "language": "python",
   "name": "python3"
  },
  "language_info": {
   "codemirror_mode": {
    "name": "ipython",
    "version": 3
   },
   "file_extension": ".py",
   "mimetype": "text/x-python",
   "name": "python",
   "nbconvert_exporter": "python",
   "pygments_lexer": "ipython3",
   "version": "3.8.5"
  },
  "varInspector": {
   "cols": {
    "lenName": 16,
    "lenType": 16,
    "lenVar": 40
   },
   "kernels_config": {
    "python": {
     "delete_cmd_postfix": "",
     "delete_cmd_prefix": "del ",
     "library": "var_list.py",
     "varRefreshCmd": "print(var_dic_list())"
    },
    "r": {
     "delete_cmd_postfix": ") ",
     "delete_cmd_prefix": "rm(",
     "library": "var_list.r",
     "varRefreshCmd": "cat(var_dic_list()) "
    }
   },
   "types_to_exclude": [
    "module",
    "function",
    "builtin_function_or_method",
    "instance",
    "_Feature"
   ],
   "window_display": false
  }
 },
 "nbformat": 4,
 "nbformat_minor": 4
}
